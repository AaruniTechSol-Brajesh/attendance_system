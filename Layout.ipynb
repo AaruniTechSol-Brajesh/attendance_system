{
 "cells": [
  {
   "cell_type": "code",
   "execution_count": 25,
   "metadata": {
    "ExecuteTime": {
     "end_time": "2021-04-21T10:49:04.180201Z",
     "start_time": "2021-04-21T10:48:48.869401Z"
    }
   },
   "outputs": [
    {
     "data": {
      "text/html": [
       "<style>.container{width : 100% ! important;}</style>"
      ],
      "text/plain": [
       "<IPython.core.display.HTML object>"
      ]
     },
     "metadata": {},
     "output_type": "display_data"
    }
   ],
   "source": [
    "import os\n",
    "import cv2\n",
    "import warnings\n",
    "import numpy as np\n",
    "import pandas as pd\n",
    "import face_recognition\n",
    "from datetime import date, datetime\n",
    "from IPython.core.display import display, HTML\n",
    "warnings.filterwarnings('ignore')\n",
    "display(HTML('<style>.container{width : 100% ! important;}</style>'))\n",
    "\n",
    "path = 'Train Images'\n",
    "myList = os.listdir(path)\n",
    "\n",
    "images, names = [], []\n",
    "for n in myList:\n",
    "    image = cv2.imread(f'{path}/{n}')\n",
    "    images.append(image)\n",
    "    names.append(os.path.splitext(n)[0])\n",
    "\n",
    "def encodings(images):\n",
    "    encoded_list = []\n",
    "    for img in images:\n",
    "        img = cv2.cvtColor(img, cv2.COLOR_BGR2RGB)\n",
    "        encode = face_recognition.face_encodings(img)[0]\n",
    "        encoded_list.append(encode)\n",
    "    return encoded_list\n",
    "\n",
    "def log_attendance(name):\n",
    "    attendance = pd.read_csv('Attendance.csv')\n",
    "    log = pd.read_csv('Log.csv')\n",
    "    today = date.today()\n",
    "    today = today.strftime('%d-%m-%Y')\n",
    "    time = datetime.now()\n",
    "    time = time.strftime('%H:%M:%S')\n",
    "    data_1 = {'Date' : [today], 'Time' : [time], 'Name' : [name]}\n",
    "    data_1 = pd.DataFrame(data_1)\n",
    "    log = pd.concat([log, data_1], axis = 0)\n",
    "    log.to_csv('Log.csv', index = None)\n",
    "    df_1 = log[(log['Date'] == today) & (log['Name'] == name)]\n",
    "    in_time = df_1['Time'].min()\n",
    "    out_time = df_1['Time'].max()\n",
    "    error = []\n",
    "    if in_time == out_time:\n",
    "        error = 'MIS-PUNCH'\n",
    "    else:\n",
    "        error = ''\n",
    "    data_2 = {'Date' : [today], 'Name' : [name], 'In Time' : [in_time], 'Out Time' : [out_time], 'Comment' : [error]}\n",
    "    data_2 = pd.DataFrame(data_2)        \n",
    "    df_2 = attendance[attendance['Date'] == today]        \n",
    "    if df_2['Name'].isin([name]).any():\n",
    "        ind = attendance.loc[attendance['Name'] == name].index\n",
    "        attendance.at[ind, 'Out Time'] = out_time\n",
    "        attendance.at[ind, 'Comment'] = error\n",
    "        attendance.to_csv('Attendance.csv', index = None)\n",
    "    else:\n",
    "        attendance = pd.concat([attendance, data_2], axis = 0)\n",
    "        attendance.to_csv('Attendance.csv', index = None)\n",
    "    \n",
    "encoded_images = encodings(images)\n",
    "\n",
    "cap = cv2.VideoCapture(0)\n",
    "while True:\n",
    "    success, img = cap.read()\n",
    "    imgS = cv2.resize(img, (0, 0), None, 0.25, 0.25)\n",
    "    imgS = cv2.cvtColor(imgS, cv2.COLOR_BGR2RGB)\n",
    "    facesCurFrame = face_recognition.face_locations(imgS)\n",
    "    encodesCurFrame = face_recognition.face_encodings(imgS, facesCurFrame)\n",
    "    for encodeFace, faceLoc in zip(encodesCurFrame, facesCurFrame):\n",
    "        matches = face_recognition.compare_faces(encoded_images, encodeFace)\n",
    "        faceDis = face_recognition.face_distance(encoded_images, encodeFace)\n",
    "        matchIndex = np.argmin(faceDis)\n",
    "        if matches[matchIndex]:\n",
    "            name = names[matchIndex].upper()\n",
    "            y1, x2, y2, x1 = faceLoc\n",
    "            y1, x2, y2, x1 = y1 * 4, x2 * 4, y2 * 4, x1 * 4\n",
    "            cv2.rectangle(img, (x1, y1), (x2, y2), (0, 255, 0), 2)\n",
    "            cv2.rectangle(img, (x1, y2 - 20), (x2, y2), (0, 255, 0), cv2.FILLED)\n",
    "            cv2.putText(img, name, (x1 + 6, y2 - 6), cv2.FONT_HERSHEY_COMPLEX, 0.5, (255, 255, 255), 1)\n",
    "            log_attendance(name)\n",
    "    cv2.imshow('Webcam', img)\n",
    "    key = cv2.waitKey(0)\n",
    "    if key % 256 == 27:\n",
    "        break\n",
    "cap.release()\n",
    "cv2.destroyAllWindows()"
   ]
  },
  {
   "cell_type": "code",
   "execution_count": null,
   "metadata": {},
   "outputs": [],
   "source": []
  },
  {
   "cell_type": "code",
   "execution_count": null,
   "metadata": {},
   "outputs": [],
   "source": []
  }
 ],
 "metadata": {
  "kernelspec": {
   "display_name": "Python 3",
   "language": "python",
   "name": "python3"
  },
  "language_info": {
   "codemirror_mode": {
    "name": "ipython",
    "version": 3
   },
   "file_extension": ".py",
   "mimetype": "text/x-python",
   "name": "python",
   "nbconvert_exporter": "python",
   "pygments_lexer": "ipython3",
   "version": "3.8.5"
  }
 },
 "nbformat": 4,
 "nbformat_minor": 4
}
